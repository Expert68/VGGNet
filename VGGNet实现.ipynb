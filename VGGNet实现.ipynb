{
 "cells": [
  {
   "cell_type": "markdown",
   "metadata": {},
   "source": [
    "# VGGNet 实现"
   ]
  },
  {
   "cell_type": "markdown",
   "metadata": {},
   "source": [
    "# VGGNet的tensorflow实现"
   ]
  },
  {
   "cell_type": "code",
   "execution_count": 1,
   "metadata": {},
   "outputs": [
    {
     "name": "stderr",
     "output_type": "stream",
     "text": [
      "C:\\ProgramData\\Anaconda3\\lib\\site-packages\\h5py\\__init__.py:36: FutureWarning: Conversion of the second argument of issubdtype from `float` to `np.floating` is deprecated. In future, it will be treated as `np.float64 == np.dtype(float).type`.\n",
      "  from ._conv import register_converters as _register_converters\n"
     ]
    }
   ],
   "source": [
    "import tensorflow as tf"
   ]
  },
  {
   "cell_type": "code",
   "execution_count": 2,
   "metadata": {},
   "outputs": [
    {
     "name": "stdout",
     "output_type": "stream",
     "text": [
      "1.10.0\n"
     ]
    }
   ],
   "source": [
    "print(tf.__version__)"
   ]
  },
  {
   "cell_type": "code",
   "execution_count": 3,
   "metadata": {},
   "outputs": [],
   "source": [
    "import pickle\n",
    "import numpy\n",
    "import os\n",
    "import numpy as np"
   ]
  },
  {
   "cell_type": "code",
   "execution_count": 4,
   "metadata": {},
   "outputs": [
    {
     "data": {
      "text/plain": [
       "['.ipynb_checkpoints',\n",
       " '09边缘检测2.ipynb',\n",
       " '1.PNG',\n",
       " 'cifar-10-batches-py',\n",
       " 'RL强化学习.ipynb',\n",
       " 'VGGNet实现.ipynb',\n",
       " '前馈神经网络.ipynb',\n",
       " '卷积神经网络实现.ipynb',\n",
       " '强化学习.ipynb',\n",
       " '神经元.ipynb',\n",
       " '神经网络实现.ipynb']"
      ]
     },
     "execution_count": 4,
     "metadata": {},
     "output_type": "execute_result"
    }
   ],
   "source": [
    "os.listdir('./')"
   ]
  },
  {
   "cell_type": "code",
   "execution_count": 5,
   "metadata": {},
   "outputs": [],
   "source": [
    "CIFAR_DIR = './cifar-10-batches-py'"
   ]
  },
  {
   "cell_type": "code",
   "execution_count": 6,
   "metadata": {},
   "outputs": [
    {
     "data": {
      "text/plain": [
       "['batches.meta',\n",
       " 'data_batch_1',\n",
       " 'data_batch_2',\n",
       " 'data_batch_3',\n",
       " 'data_batch_4',\n",
       " 'data_batch_5',\n",
       " 'readme.html',\n",
       " 'test_batch']"
      ]
     },
     "execution_count": 6,
     "metadata": {},
     "output_type": "execute_result"
    }
   ],
   "source": [
    "os.listdir(CIFAR_DIR)"
   ]
  },
  {
   "cell_type": "code",
   "execution_count": 7,
   "metadata": {},
   "outputs": [
    {
     "name": "stdout",
     "output_type": "stream",
     "text": [
      "<class 'dict'>\n",
      "dict_keys(['batch_label', 'labels', 'data', 'filenames'])\n",
      "<class 'numpy.ndarray'>\n",
      "<class 'list'>\n",
      "<class 'str'>\n",
      "<class 'list'>\n",
      "(10000, 3072)\n",
      "[[ 59  43  50 ... 140  84  72]\n",
      " [154 126 105 ... 139 142 144]]\n",
      "[6, 9]\n",
      "training batch 1 of 5\n",
      "['leptodactylus_pentadactylus_s_000004.png', 'camion_s_000148.png']\n"
     ]
    }
   ],
   "source": [
    "with open(os.path.join(CIFAR_DIR,'data_batch_1'),'rb') as f:\n",
    "    data = pickle.load(f,encoding='latin1')\n",
    "    print(type(data))\n",
    "    print(data.keys())\n",
    "    print(type(data['data']))\n",
    "    print(type(data['labels']))\n",
    "    print(type(data['batch_label']))\n",
    "    print(type(data['filenames']))\n",
    "    print(data['data'].shape)\n",
    "    print(data['data'][0:2])\n",
    "    print(data['labels'][0:2])\n",
    "    print(data['batch_label'])\n",
    "    print(data['filenames'][0:2])"
   ]
  },
  {
   "cell_type": "code",
   "execution_count": 8,
   "metadata": {},
   "outputs": [],
   "source": [
    "image_arr = data['data'][100]\n",
    "image_arr = image_arr.reshape((3,32,32))\n",
    "image_arr = image_arr.transpose((1,2,0))"
   ]
  },
  {
   "cell_type": "code",
   "execution_count": 9,
   "metadata": {},
   "outputs": [],
   "source": [
    " import matplotlib.pyplot as plt\n",
    "%matplotlib inline"
   ]
  },
  {
   "cell_type": "code",
   "execution_count": 10,
   "metadata": {},
   "outputs": [
    {
     "data": {
      "text/plain": [
       "<matplotlib.image.AxesImage at 0x20f72358>"
      ]
     },
     "execution_count": 10,
     "metadata": {},
     "output_type": "execute_result"
    },
    {
     "data": {
      "image/png": "[encoded data removed]",
      "text/plain": [
       "<Figure size 432x288 with 1 Axes>"
      ]
     },
     "metadata": {},
     "output_type": "display_data"
    }
   ],
   "source": [
    "plt.imshow(image_arr)"
   ]
  },
  {
   "cell_type": "markdown",
   "metadata": {},
   "source": [
    "# 使用神经元对cifar数据进行分类"
   ]
  },
  {
   "cell_type": "code",
   "execution_count": 11,
   "metadata": {},
   "outputs": [],
   "source": [
    "import tensorflow as tf"
   ]
  },
  {
   "cell_type": "code",
   "execution_count": 12,
   "metadata": {},
   "outputs": [
    {
     "name": "stdout",
     "output_type": "stream",
     "text": [
      "(50000, 3072)\n",
      "(50000,)\n",
      "(10000, 3072)\n",
      "(10000,)\n"
     ]
    }
   ],
   "source": [
    "def load_data(filename):\n",
    "    \"\"\"read data from data file.\"\"\"\n",
    "    with open(filename, 'rb') as f:\n",
    "        data = pickle.load(f, encoding='bytes')\n",
    "        return data[b'data'], data[b'labels']\n",
    "\n",
    "# tensorflow.Dataset.\n",
    "class CifarData:\n",
    "    def __init__(self, filenames, need_shuffle):\n",
    "        all_data = []\n",
    "        all_labels = []\n",
    "        for filename in filenames:\n",
    "            data, labels = load_data(filename)\n",
    "            all_data.append(data)\n",
    "            all_labels.append(labels)\n",
    "        self._data = np.vstack(all_data)\n",
    "        self._data = self._data / 127.5 - 1\n",
    "        self._labels = np.hstack(all_labels)\n",
    "        print(self._data.shape)\n",
    "        print(self._labels.shape)\n",
    "        \n",
    "        self._num_examples = self._data.shape[0]\n",
    "        self._need_shuffle = need_shuffle\n",
    "        self._indicator = 0\n",
    "        if self._need_shuffle:\n",
    "            self._shuffle_data()\n",
    "            \n",
    "    def _shuffle_data(self):\n",
    "        # [0,1,2,3,4,5] -> [5,3,2,4,0,1]\n",
    "        p = np.random.permutation(self._num_examples)\n",
    "        self._data = self._data[p]\n",
    "        self._labels = self._labels[p]\n",
    "    \n",
    "    def next_batch(self, batch_size):\n",
    "        \"\"\"return batch_size examples as a batch.\"\"\"\n",
    "        end_indicator = self._indicator + batch_size\n",
    "        if end_indicator > self._num_examples:\n",
    "            if self._need_shuffle:\n",
    "                self._shuffle_data()\n",
    "                self._indicator = 0\n",
    "                end_indicator = batch_size\n",
    "            else:\n",
    "                raise Exception(\"have no more examples\")\n",
    "        if end_indicator > self._num_examples:\n",
    "            raise Exception(\"batch size is larger than all examples\")\n",
    "        batch_data = self._data[self._indicator: end_indicator]\n",
    "        batch_labels = self._labels[self._indicator: end_indicator]\n",
    "        self._indicator = end_indicator\n",
    "        return batch_data, batch_labels\n",
    "\n",
    "train_filenames = [os.path.join(CIFAR_DIR, 'data_batch_%d' % i) for i in range(1, 6)]\n",
    "test_filenames = [os.path.join(CIFAR_DIR, 'test_batch')]\n",
    "\n",
    "train_data = CifarData(train_filenames, True)\n",
    "test_data = CifarData(test_filenames, False)"
   ]
  },
  {
   "cell_type": "code",
   "execution_count": 13,
   "metadata": {},
   "outputs": [],
   "source": [
    "x = tf.placeholder(tf.float32,[None,3072])\n",
    "x_image = tf.reshape(x,[-1,3,32,32])\n",
    "y = tf.placeholder(tf.int64,[None])"
   ]
  },
  {
   "cell_type": "code",
   "execution_count": 14,
   "metadata": {},
   "outputs": [],
   "source": [
    "# w = tf.get_variable('w',[x.get_shape()[-1],10],initializer=tf.random_normal_initializer(0,1))\n",
    "# b = tf.get_variable('b',[10],initializer=tf.constant_initializer(0.0))\n",
    "# y_ = tf.matmul(x,w)+b\n",
    "# hidden1 = tf.layers.dense(x,100,activation=tf.nn.relu)\n",
    "# hidden2 = tf.layers.dense(hidden1,100,activation=tf.nn.relu)\n",
    "# hidden3 = tf.layers.dense(hidden2,50,activation=tf.nn.relu)\n",
    "x_image = tf.reshape(x,[-1,3,32,32])\n",
    "x_image = tf.transpose(x_image,perm=[0,2,3,1])\n",
    "conv1_1 = tf.layers.conv2d(x_image,32,(3,3),padding='same',activation=tf.nn.relu,name='conv1_1')\n",
    "conv1_2 = tf.layers.conv2d(conv1_1,32,(3,3),padding='same',activation=tf.nn.relu,name='conv1_2')\n",
    "pooling1 = tf.layers.max_pooling2d(conv1_2,(2,2),(2,2),name='pool1')\n",
    "conv2_1 = tf.layers.conv2d(pooling1,32,(3,3),padding='same',activation=tf.nn.relu,name='conv2_1')\n",
    "conv2_2 = tf.layers.conv2d(conv2_1,32,(3,3),padding='same',activation=tf.nn.relu,name='conv2_2')\n",
    "pooling2 = tf.layers.max_pooling2d(conv2_2,(2,2),(2,2),name='pool2_2')\n",
    "conv3_1 = tf.layers.conv2d(pooling2,32,(3,3),padding='same',activation=tf.nn.relu,name='conv3_1')\n",
    "conv3_2 = tf.layers.conv2d(conv3_1,32,(3,3),padding='same',activation=tf.nn.relu,name='conv3_2')\n",
    "pooling3 = tf.layers.max_pooling2d(conv3_2,(2,2),(2,2),name='pool3')\n",
    "flatten = tf.layers.flatten(pooling3)\n",
    "y_ = tf.layers.dense(flatten,10)\n",
    "p_y = tf.nn.softmax(y_)\n",
    "y_one_hot = tf.one_hot(y,10,dtype=tf.float32)\n",
    "loss = tf.losses.sparse_softmax_cross_entropy(labels=y,logits=y_)"
   ]
  },
  {
   "cell_type": "code",
   "execution_count": 15,
   "metadata": {},
   "outputs": [
    {
     "data": {
      "text/plain": [
       "'\\np_y_1 = tf.nn.sigmoid(y_)\\n'"
      ]
     },
     "execution_count": 15,
     "metadata": {},
     "output_type": "execute_result"
    }
   ],
   "source": [
    "\"\"\"\n",
    "p_y_1 = tf.nn.sigmoid(y_)\n",
    "\"\"\""
   ]
  },
  {
   "cell_type": "code",
   "execution_count": 16,
   "metadata": {},
   "outputs": [
    {
     "data": {
      "text/plain": [
       "'\\ny_reshaped = tf.reshape(y,(-1,1))\\ny_reshaped_float = tf.cast(y_reshaped,tf.float32)\\nloss = tf.reduce_mean(tf.square(y_reshaped_float-p_y_1))\\n'"
      ]
     },
     "execution_count": 16,
     "metadata": {},
     "output_type": "execute_result"
    }
   ],
   "source": [
    "\"\"\"\n",
    "y_reshaped = tf.reshape(y,(-1,1))\n",
    "y_reshaped_float = tf.cast(y_reshaped,tf.float32)\n",
    "loss = tf.reduce_mean(tf.square(y_reshaped_float-p_y_1))\n",
    "\"\"\""
   ]
  },
  {
   "cell_type": "code",
   "execution_count": 17,
   "metadata": {},
   "outputs": [],
   "source": [
    "predict = tf.argmax(y_,1)\n",
    "correct_prediction = tf.equal(predict,y)\n",
    "accuracy = tf.reduce_mean(tf.cast(correct_prediction,tf.float64))"
   ]
  },
  {
   "cell_type": "code",
   "execution_count": 18,
   "metadata": {},
   "outputs": [],
   "source": [
    "with tf.name_scope('train_op'):\n",
    "    train_op = tf.train.AdamOptimizer(1e-3).minimize(loss)"
   ]
  },
  {
   "cell_type": "code",
   "execution_count": 19,
   "metadata": {},
   "outputs": [
    {
     "name": "stdout",
     "output_type": "stream",
     "text": [
      "[Train] Step: 0, loss: 2.29579, acc:0.05000\n",
      "[Train] Step: 500, loss: 1.84608, acc:0.40000\n",
      "[Train] Step: 1000, loss: 1.16171, acc:0.60000\n",
      "[Train] Step: 1500, loss: 1.43117, acc:0.40000\n",
      "[Train] Step: 2000, loss: 0.88654, acc:0.60000\n",
      "[Train] Step: 2500, loss: 0.78193, acc:0.70000\n",
      "[Train] Step: 3000, loss: 0.97060, acc:0.55000\n",
      "[Train] Step: 3500, loss: 0.94882, acc:0.65000\n",
      "[Train] Step: 4000, loss: 0.68080, acc:0.75000\n",
      "[Train] Step: 4500, loss: 0.67515, acc:0.80000\n",
      "(10000, 3072)\n",
      "(10000,)\n",
      "[Test] Step: 5000,acc:0.66500\n",
      "[Train] Step: 5000, loss: 1.09387, acc:0.55000\n",
      "[Train] Step: 5500, loss: 1.10559, acc:0.60000\n",
      "[Train] Step: 6000, loss: 1.22080, acc:0.75000\n",
      "[Train] Step: 6500, loss: 0.88253, acc:0.70000\n",
      "[Train] Step: 7000, loss: 0.80417, acc:0.70000\n",
      "[Train] Step: 7500, loss: 0.75180, acc:0.70000\n",
      "[Train] Step: 8000, loss: 0.72669, acc:0.70000\n",
      "[Train] Step: 8500, loss: 0.63356, acc:0.80000\n",
      "[Train] Step: 9000, loss: 0.69007, acc:0.75000\n",
      "[Train] Step: 9500, loss: 1.48823, acc:0.55000\n",
      "(10000, 3072)\n",
      "(10000,)\n",
      "[Test] Step: 10000,acc:0.73300\n",
      "[Train] Step: 10000, loss: 0.42286, acc:0.80000\n",
      "[Train] Step: 10500, loss: 0.64288, acc:0.70000\n",
      "[Train] Step: 11000, loss: 0.92964, acc:0.65000\n",
      "[Train] Step: 11500, loss: 0.74686, acc:0.65000\n",
      "[Train] Step: 12000, loss: 0.67672, acc:0.80000\n",
      "[Train] Step: 12500, loss: 0.64338, acc:0.75000\n",
      "[Train] Step: 13000, loss: 0.59431, acc:0.85000\n",
      "[Train] Step: 13500, loss: 0.80204, acc:0.65000\n",
      "[Train] Step: 14000, loss: 0.43917, acc:0.90000\n",
      "[Train] Step: 14500, loss: 0.43569, acc:0.80000\n",
      "(10000, 3072)\n",
      "(10000,)\n",
      "[Test] Step: 15000,acc:0.73350\n",
      "[Train] Step: 15000, loss: 0.46378, acc:0.80000\n",
      "[Train] Step: 15500, loss: 0.33702, acc:0.85000\n",
      "[Train] Step: 16000, loss: 0.65029, acc:0.75000\n",
      "[Train] Step: 16500, loss: 0.87462, acc:0.65000\n",
      "[Train] Step: 17000, loss: 0.83662, acc:0.65000\n",
      "[Train] Step: 17500, loss: 0.44382, acc:0.85000\n",
      "[Train] Step: 18000, loss: 0.35770, acc:0.85000\n",
      "[Train] Step: 18500, loss: 0.78466, acc:0.70000\n",
      "[Train] Step: 19000, loss: 1.23882, acc:0.60000\n",
      "[Train] Step: 19500, loss: 0.95549, acc:0.65000\n",
      "(10000, 3072)\n",
      "(10000,)\n",
      "[Test] Step: 20000,acc:0.75350\n",
      "[Train] Step: 20000, loss: 0.54621, acc:0.80000\n",
      "[Train] Step: 20500, loss: 0.46907, acc:0.90000\n",
      "[Train] Step: 21000, loss: 0.73627, acc:0.60000\n",
      "[Train] Step: 21500, loss: 0.81474, acc:0.85000\n",
      "[Train] Step: 22000, loss: 0.61925, acc:0.80000\n",
      "[Train] Step: 22500, loss: 0.38069, acc:0.85000\n",
      "[Train] Step: 23000, loss: 0.61212, acc:0.80000\n",
      "[Train] Step: 23500, loss: 0.51694, acc:0.90000\n",
      "[Train] Step: 24000, loss: 0.82967, acc:0.70000\n",
      "[Train] Step: 24500, loss: 0.37497, acc:0.75000\n",
      "(10000, 3072)\n",
      "(10000,)\n",
      "[Test] Step: 25000,acc:0.73400\n",
      "[Train] Step: 25000, loss: 0.82023, acc:0.65000\n",
      "[Train] Step: 25500, loss: 0.60081, acc:0.80000\n",
      "[Train] Step: 26000, loss: 0.46454, acc:0.85000\n",
      "[Train] Step: 26500, loss: 0.40207, acc:0.85000\n",
      "[Train] Step: 27000, loss: 0.58671, acc:0.75000\n",
      "[Train] Step: 27500, loss: 0.39304, acc:0.85000\n",
      "[Train] Step: 28000, loss: 0.16952, acc:0.95000\n",
      "[Train] Step: 28500, loss: 0.57347, acc:0.70000\n",
      "[Train] Step: 29000, loss: 0.53087, acc:0.80000\n",
      "[Train] Step: 29500, loss: 0.79457, acc:0.70000\n",
      "(10000, 3072)\n",
      "(10000,)\n",
      "[Test] Step: 30000,acc:0.74750\n",
      "[Train] Step: 30000, loss: 0.44388, acc:0.80000\n",
      "[Train] Step: 30500, loss: 0.32750, acc:0.85000\n",
      "[Train] Step: 31000, loss: 0.48560, acc:0.85000\n",
      "[Train] Step: 31500, loss: 0.58920, acc:0.85000\n",
      "[Train] Step: 32000, loss: 0.44045, acc:0.80000\n",
      "[Train] Step: 32500, loss: 0.34379, acc:0.90000\n",
      "[Train] Step: 33000, loss: 0.06510, acc:1.00000\n",
      "[Train] Step: 33500, loss: 0.36990, acc:0.85000\n",
      "[Train] Step: 34000, loss: 0.70941, acc:0.75000\n",
      "[Train] Step: 34500, loss: 0.99566, acc:0.60000\n",
      "(10000, 3072)\n",
      "(10000,)\n",
      "[Test] Step: 35000,acc:0.73850\n",
      "[Train] Step: 35000, loss: 0.19691, acc:0.95000\n",
      "[Train] Step: 35500, loss: 0.37292, acc:0.95000\n",
      "[Train] Step: 36000, loss: 0.48460, acc:0.80000\n",
      "[Train] Step: 36500, loss: 0.52540, acc:0.75000\n",
      "[Train] Step: 37000, loss: 0.52702, acc:0.85000\n",
      "[Train] Step: 37500, loss: 0.34409, acc:0.85000\n",
      "[Train] Step: 38000, loss: 0.46611, acc:0.90000\n",
      "[Train] Step: 38500, loss: 0.73004, acc:0.80000\n",
      "[Train] Step: 39000, loss: 0.45457, acc:0.85000\n",
      "[Train] Step: 39500, loss: 0.38935, acc:0.85000\n",
      "(10000, 3072)\n",
      "(10000,)\n",
      "[Test] Step: 40000,acc:0.73350\n",
      "[Train] Step: 40000, loss: 0.43024, acc:0.90000\n",
      "[Train] Step: 40500, loss: 0.43847, acc:0.90000\n",
      "[Train] Step: 41000, loss: 0.47532, acc:0.85000\n",
      "[Train] Step: 41500, loss: 0.57062, acc:0.85000\n",
      "[Train] Step: 42000, loss: 0.39171, acc:0.85000\n",
      "[Train] Step: 42500, loss: 0.32978, acc:0.90000\n",
      "[Train] Step: 43000, loss: 0.15490, acc:0.95000\n",
      "[Train] Step: 43500, loss: 0.50528, acc:0.90000\n",
      "[Train] Step: 44000, loss: 0.74101, acc:0.75000\n",
      "[Train] Step: 44500, loss: 0.60158, acc:0.80000\n",
      "(10000, 3072)\n",
      "(10000,)\n",
      "[Test] Step: 45000,acc:0.73800\n",
      "[Train] Step: 45000, loss: 0.33050, acc:0.75000\n",
      "[Train] Step: 45500, loss: 0.30184, acc:0.85000\n",
      "[Train] Step: 46000, loss: 0.47707, acc:0.70000\n",
      "[Train] Step: 46500, loss: 0.55056, acc:0.90000\n",
      "[Train] Step: 47000, loss: 0.52916, acc:0.75000\n",
      "[Train] Step: 47500, loss: 0.34355, acc:0.80000\n",
      "[Train] Step: 48000, loss: 0.76225, acc:0.80000\n",
      "[Train] Step: 48500, loss: 0.46798, acc:0.75000\n",
      "[Train] Step: 49000, loss: 0.36438, acc:0.85000\n",
      "[Train] Step: 49500, loss: 0.53883, acc:0.85000\n",
      "(10000, 3072)\n",
      "(10000,)\n",
      "[Test] Step: 50000,acc:0.75200\n",
      "[Train] Step: 50000, loss: 0.61373, acc:0.80000\n",
      "[Train] Step: 50500, loss: 0.56692, acc:0.80000\n",
      "[Train] Step: 51000, loss: 0.73716, acc:0.80000\n",
      "[Train] Step: 51500, loss: 0.26206, acc:0.90000\n",
      "[Train] Step: 52000, loss: 0.32152, acc:0.90000\n",
      "[Train] Step: 52500, loss: 0.54119, acc:0.70000\n",
      "[Train] Step: 53000, loss: 0.47535, acc:0.75000\n",
      "[Train] Step: 53500, loss: 0.38520, acc:0.80000\n",
      "[Train] Step: 54000, loss: 0.58938, acc:0.80000\n",
      "[Train] Step: 54500, loss: 0.85802, acc:0.80000\n",
      "(10000, 3072)\n",
      "(10000,)\n",
      "[Test] Step: 55000,acc:0.73700\n",
      "[Train] Step: 55000, loss: 0.33785, acc:0.85000\n",
      "[Train] Step: 55500, loss: 0.31147, acc:0.85000\n",
      "[Train] Step: 56000, loss: 0.26638, acc:0.90000\n",
      "[Train] Step: 56500, loss: 0.71961, acc:0.80000\n",
      "[Train] Step: 57000, loss: 0.30924, acc:0.90000\n",
      "[Train] Step: 57500, loss: 0.47804, acc:0.90000\n",
      "[Train] Step: 58000, loss: 0.06736, acc:0.95000\n",
      "[Train] Step: 58500, loss: 0.56961, acc:0.85000\n",
      "[Train] Step: 59000, loss: 0.42570, acc:0.90000\n",
      "[Train] Step: 59500, loss: 0.50520, acc:0.75000\n",
      "(10000, 3072)\n",
      "(10000,)\n",
      "[Test] Step: 60000,acc:0.72300\n",
      "[Train] Step: 60000, loss: 0.03487, acc:1.00000\n",
      "[Train] Step: 60500, loss: 0.20517, acc:0.95000\n",
      "[Train] Step: 61000, loss: 0.09366, acc:0.95000\n",
      "[Train] Step: 61500, loss: 0.43480, acc:0.90000\n",
      "[Train] Step: 62000, loss: 0.51548, acc:0.80000\n",
      "[Train] Step: 62500, loss: 0.36898, acc:0.85000\n",
      "[Train] Step: 63000, loss: 0.22159, acc:0.95000\n",
      "[Train] Step: 63500, loss: 0.53656, acc:0.75000\n",
      "[Train] Step: 64000, loss: 0.27192, acc:0.85000\n",
      "[Train] Step: 64500, loss: 0.50638, acc:0.75000\n",
      "(10000, 3072)\n",
      "(10000,)\n",
      "[Test] Step: 65000,acc:0.74250\n",
      "[Train] Step: 65000, loss: 0.25558, acc:0.90000\n",
      "[Train] Step: 65500, loss: 0.21717, acc:0.90000\n",
      "[Train] Step: 66000, loss: 0.20444, acc:0.95000\n",
      "[Train] Step: 66500, loss: 0.81857, acc:0.80000\n",
      "[Train] Step: 67000, loss: 0.33741, acc:0.85000\n",
      "[Train] Step: 67500, loss: 0.28832, acc:0.85000\n",
      "[Train] Step: 68000, loss: 0.24981, acc:0.90000\n",
      "[Train] Step: 68500, loss: 0.37478, acc:0.85000\n",
      "[Train] Step: 69000, loss: 0.73843, acc:0.75000\n",
      "[Train] Step: 69500, loss: 0.11231, acc:1.00000\n",
      "(10000, 3072)\n",
      "(10000,)\n",
      "[Test] Step: 70000,acc:0.74000\n",
      "[Train] Step: 70000, loss: 0.24523, acc:0.90000\n",
      "[Train] Step: 70500, loss: 0.32752, acc:0.80000\n",
      "[Train] Step: 71000, loss: 0.41770, acc:0.85000\n",
      "[Train] Step: 71500, loss: 0.58431, acc:0.85000\n",
      "[Train] Step: 72000, loss: 0.30777, acc:0.90000\n",
      "[Train] Step: 72500, loss: 0.24562, acc:0.90000\n",
      "[Train] Step: 73000, loss: 0.21255, acc:0.95000\n",
      "[Train] Step: 73500, loss: 0.16303, acc:0.95000\n",
      "[Train] Step: 74000, loss: 0.19541, acc:0.90000\n",
      "[Train] Step: 74500, loss: 0.51494, acc:0.90000\n",
      "(10000, 3072)\n",
      "(10000,)\n",
      "[Test] Step: 75000,acc:0.73350\n",
      "[Train] Step: 75000, loss: 0.32048, acc:0.85000\n",
      "[Train] Step: 75500, loss: 0.35705, acc:0.90000\n",
      "[Train] Step: 76000, loss: 0.31285, acc:0.80000\n",
      "[Train] Step: 76500, loss: 0.16558, acc:0.90000\n",
      "[Train] Step: 77000, loss: 0.42066, acc:0.85000\n"
     ]
    },
    {
     "name": "stdout",
     "output_type": "stream",
     "text": [
      "[Train] Step: 77500, loss: 0.16500, acc:0.95000\n",
      "[Train] Step: 78000, loss: 0.52170, acc:0.85000\n",
      "[Train] Step: 78500, loss: 0.52013, acc:0.70000\n",
      "[Train] Step: 79000, loss: 0.57704, acc:0.80000\n",
      "[Train] Step: 79500, loss: 0.14134, acc:0.95000\n",
      "(10000, 3072)\n",
      "(10000,)\n",
      "[Test] Step: 80000,acc:0.73700\n",
      "[Train] Step: 80000, loss: 0.03553, acc:1.00000\n",
      "[Train] Step: 80500, loss: 0.31292, acc:0.90000\n",
      "[Train] Step: 81000, loss: 0.48783, acc:0.75000\n",
      "[Train] Step: 81500, loss: 0.12172, acc:0.95000\n",
      "[Train] Step: 82000, loss: 0.46065, acc:0.75000\n",
      "[Train] Step: 82500, loss: 0.49462, acc:0.70000\n",
      "[Train] Step: 83000, loss: 0.30648, acc:0.95000\n",
      "[Train] Step: 83500, loss: 0.16632, acc:0.90000\n",
      "[Train] Step: 84000, loss: 0.19997, acc:0.95000\n",
      "[Train] Step: 84500, loss: 0.55522, acc:0.85000\n",
      "(10000, 3072)\n",
      "(10000,)\n",
      "[Test] Step: 85000,acc:0.71750\n",
      "[Train] Step: 85000, loss: 0.06435, acc:1.00000\n",
      "[Train] Step: 85500, loss: 0.40804, acc:0.85000\n",
      "[Train] Step: 86000, loss: 0.26209, acc:0.90000\n",
      "[Train] Step: 86500, loss: 0.22291, acc:0.90000\n",
      "[Train] Step: 87000, loss: 0.42884, acc:0.80000\n",
      "[Train] Step: 87500, loss: 0.34846, acc:0.85000\n",
      "[Train] Step: 88000, loss: 0.32174, acc:0.85000\n",
      "[Train] Step: 88500, loss: 0.22949, acc:0.95000\n",
      "[Train] Step: 89000, loss: 0.60878, acc:0.80000\n",
      "[Train] Step: 89500, loss: 0.20185, acc:0.90000\n",
      "(10000, 3072)\n",
      "(10000,)\n",
      "[Test] Step: 90000,acc:0.73050\n",
      "[Train] Step: 90000, loss: 0.03435, acc:1.00000\n",
      "[Train] Step: 90500, loss: 0.17731, acc:0.95000\n",
      "[Train] Step: 91000, loss: 0.32300, acc:0.85000\n",
      "[Train] Step: 91500, loss: 0.06720, acc:1.00000\n",
      "[Train] Step: 92000, loss: 0.78523, acc:0.85000\n",
      "[Train] Step: 92500, loss: 0.20824, acc:0.90000\n",
      "[Train] Step: 93000, loss: 0.17287, acc:0.90000\n",
      "[Train] Step: 93500, loss: 0.25185, acc:0.90000\n",
      "[Train] Step: 94000, loss: 0.37290, acc:0.85000\n",
      "[Train] Step: 94500, loss: 0.32206, acc:0.85000\n",
      "(10000, 3072)\n",
      "(10000,)\n",
      "[Test] Step: 95000,acc:0.73450\n",
      "[Train] Step: 95000, loss: 0.13882, acc:0.95000\n",
      "[Train] Step: 95500, loss: 0.11769, acc:0.95000\n",
      "[Train] Step: 96000, loss: 0.39065, acc:0.90000\n",
      "[Train] Step: 96500, loss: 0.26179, acc:0.90000\n",
      "[Train] Step: 97000, loss: 0.18396, acc:0.95000\n",
      "[Train] Step: 97500, loss: 0.18150, acc:0.95000\n",
      "[Train] Step: 98000, loss: 0.01897, acc:1.00000\n",
      "[Train] Step: 98500, loss: 0.17826, acc:0.95000\n",
      "[Train] Step: 99000, loss: 0.29939, acc:0.90000\n",
      "[Train] Step: 99500, loss: 0.10538, acc:0.95000\n",
      "(10000, 3072)\n",
      "(10000,)\n",
      "[Test] Step: 100000,acc:0.73050\n"
     ]
    }
   ],
   "source": [
    "init = tf.global_variables_initializer()\n",
    "batch_size = 20\n",
    "train_steps = 100000\n",
    "test_steps = 100\n",
    "with tf.Session() as sess:\n",
    "    sess.run(init)\n",
    "    for i in range(train_steps):\n",
    "        batch_data,batch_labels = train_data.next_batch(batch_size)\n",
    "        loss_val,acc_val,_ = sess.run([loss,accuracy,train_op],feed_dict={x:batch_data ,y:batch_labels})\n",
    "        if i%500 == 0:\n",
    "            print('[Train] Step: %d, loss: %4.5f, acc:%4.5f' %(i,loss_val,acc_val))\n",
    "        if (i+1)%5000 == 0:\n",
    "            test_data = CifarData(test_filenames,False)\n",
    "            all_test_acc_val = []\n",
    "            for j in range(test_steps):\n",
    "                test_batch_data,test_batch_labels = test_data.next_batch(batch_size)\n",
    "                test_acc_val = sess.run([accuracy],feed_dict={x:test_batch_data,y:test_batch_labels})\n",
    "                all_test_acc_val.append(test_acc_val)\n",
    "            test_acc = np.mean(all_test_acc_val)\n",
    "            print('[Test] Step: %d,acc:%4.5f' %(i+1,test_acc))"
   ]
  },
  {
   "cell_type": "code",
   "execution_count": null,
   "metadata": {},
   "outputs": [],
   "source": []
  }
 ],
 "metadata": {
  "kernelspec": {
   "display_name": "Python 3",
   "language": "python",
   "name": "python3"
  },
  "language_info": {
   "codemirror_mode": {
    "name": "ipython",
    "version": 3
   },
   "file_extension": ".py",
   "mimetype": "text/x-python",
   "name": "python",
   "nbconvert_exporter": "python",
   "pygments_lexer": "ipython3",
   "version": "3.6.5"
  }
 },
 "nbformat": 4,
 "nbformat_minor": 2
}
